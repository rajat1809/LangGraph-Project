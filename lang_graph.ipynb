{
 "cells": [
  {
   "cell_type": "code",
   "execution_count": 16,
   "metadata": {},
   "outputs": [],
   "source": [
    "import functools\n",
    "import operator\n",
    "import requests\n",
    "import os\n",
    "from bs4 import BeautifulSoup\n",
    "from duckduckgo_search import DDGS\n",
    "from langchain.agents import AgentExecutor, create_openai_tools_agent, create_react_agent\n",
    "from langchain_core.messages import HumanMessage, BaseMessage\n",
    "from langchain.output_parsers.openai_functions import JsonOutputFunctionsParser\n",
    "from langchain_core.prompts import ChatPromptTemplate, MessagesPlaceholder\n",
    "from langgraph.graph import StateGraph, END\n",
    "from langchain.tools import tool\n",
    "from langchain_openai import ChatOpenAI\n",
    "\n",
    "from typing import TypedDict, Annotated, Sequence\n",
    "\n",
    "from langchain_community.tools.tavily_search import TavilySearchResults\n",
    "\n",
    "import gradio as gr\n",
    "from decouple import config\n",
    "from langchain_google_genai import ChatGoogleGenerativeAI"
   ]
  },
  {
   "cell_type": "code",
   "execution_count": 17,
   "metadata": {},
   "outputs": [],
   "source": [
    "llm = ChatOpenAI(\n",
    "    model_name = \"gpt-4o-mini\",\n",
    ")"
   ]
  },
  {
   "cell_type": "code",
   "execution_count": 18,
   "metadata": {},
   "outputs": [],
   "source": [
    "@tool(\"process_search_tool\", return_direct=False)\n",
    "def process_search_tool(url: str) -> str:\n",
    "    \"\"\"Used to process content found on the internet.\"\"\"\n",
    "    response = requests.get(url=url)\n",
    "    soup = BeautifulSoup(response.content, \"html.parser\")\n",
    "    return soup.get_text()"
   ]
  },
  {
   "cell_type": "code",
   "execution_count": 19,
   "metadata": {},
   "outputs": [],
   "source": [
    "@tool(\"internet_search_tool\", return_direct=False)\n",
    "def internet_search_tool(query: str) -> str:\n",
    "    \"\"\"Search provided query on the internet using DuckDuckGo\"\"\"\n",
    "    with DDGS() as ddgs:\n",
    "        results = [r for r in ddgs.text(query, max_results=5)]\n",
    "        return results if results else \"No results found\""
   ]
  },
  {
   "cell_type": "code",
   "execution_count": 20,
   "metadata": {},
   "outputs": [],
   "source": [
    "# tools = [TavilySearchResults(max_results=1), process_search_tool]\n",
    "tools = [internet_search_tool, process_search_tool]"
   ]
  },
  {
   "cell_type": "code",
   "execution_count": 21,
   "metadata": {},
   "outputs": [],
   "source": [
    "def create_agents(llm: ChatGoogleGenerativeAI,\n",
    "                  tools: list,\n",
    "                  system_prompt: str) -> AgentExecutor:\n",
    "    prompt = ChatPromptTemplate.from_messages([\n",
    "        (\"system\", system_prompt),\n",
    "        MessagesPlaceholder(variable_name=\"messages\"),\n",
    "        MessagesPlaceholder(variable_name=\"agent_scratchpad\")\n",
    "    ])\n",
    "    agent = create_react_agent(llm, tools, prompt)\n",
    "   \n",
    "    executor = AgentExecutor(agent=agent, tools=tools)\n",
    "    return executor"
   ]
  },
  {
   "cell_type": "code",
   "execution_count": 22,
   "metadata": {},
   "outputs": [],
   "source": [
    "def agent_node(state, agent, name):\n",
    "    result = agent.invoke(state)\n",
    "    return {\"messages\": [HumanMessage(content=result[\"output\"], name=name)]}"
   ]
  },
  {
   "cell_type": "code",
   "execution_count": 23,
   "metadata": {},
   "outputs": [],
   "source": [
    "members = [\"news_correspondent\", \"news_editor\", \"ads_writter\"]"
   ]
  },
  {
   "cell_type": "code",
   "execution_count": 24,
   "metadata": {},
   "outputs": [],
   "source": [
    "system_prompt = (\n",
    "    \"As a supervisor, your role is to oversee the insight between these\"\n",
    "    \" workers: {members}. Based on the user's request,\"\n",
    "    \" determine which worker should take the next action. Each worker is responsible for\"\n",
    "    \" executing a specific task and reporting back thier findings and progress.\"\n",
    "    \" Once all tasks are completed, indicate 'FINISH'.\"\n",
    ")\n",
    "\n",
    "options = [\"FINISH\"] + members"
   ]
  },
  {
   "cell_type": "code",
   "execution_count": 25,
   "metadata": {},
   "outputs": [],
   "source": [
    "function_def = {\n",
    "    \"name\": \"route\",\n",
    "    \"description\": \"Select the next role.\",\n",
    "    \"parameters\": {\n",
    "        \"title\": \"routeSchema\",\n",
    "        \"type\": \"object\",\n",
    "        \"properties\": {\"next\": {\"title\": \"Next\", \"anyOf\": [{\"enum\": options}]}},\n",
    "        \"required\": [\"next\"]\n",
    "    }\n",
    "}"
   ]
  },
  {
   "cell_type": "code",
   "execution_count": 26,
   "metadata": {},
   "outputs": [],
   "source": [
    "prompt = ChatPromptTemplate.from_messages([\n",
    "    (\"system\", system_prompt),\n",
    "    MessagesPlaceholder(variable_name=\"messages\"),\n",
    "    (\"system\",\n",
    "     \"Given the conversation above, who should act next? Or should we FINISH? Select one of: {options}\"),\n",
    "]).partial(options=str(options), members=\", \".join(members))\n"
   ]
  },
  {
   "cell_type": "code",
   "execution_count": 27,
   "metadata": {},
   "outputs": [],
   "source": [
    "supervisor_chain = (prompt | llm.bind_functions(\n",
    "    functions=[function_def], function_call=\"route\") | JsonOutputFunctionsParser())"
   ]
  },
  {
   "cell_type": "code",
   "execution_count": 28,
   "metadata": {},
   "outputs": [],
   "source": [
    "news_correspondent_agent = create_agents(\n",
    "    llm,\n",
    "    tools,\n",
    "    \"\"\"Answer the following questions as best you can. You have access to the following tools:\n",
    "\n",
    "            {tools}{tool_names}\n",
    "    Your primary role is to function as an intelligent news research assistant, adept at scouring \n",
    "    the internet for the latest and most relevant trending stories across various sectors like politics, technology, \n",
    "    health, culture, and global events. You possess the capability to access a wide range of online news sources, \n",
    "    blogs, and social media platforms to gather real-time information.\"\"\"\n",
    ")\n",
    "\n",
    "# print(news_correspondent_agent)"
   ]
  },
  {
   "cell_type": "code",
   "execution_count": 29,
   "metadata": {},
   "outputs": [],
   "source": [
    "news_correspondent_node = functools.partial(\n",
    "    agent_node, agent=news_correspondent_agent, name=\"news_correspondent\"\n",
    ")"
   ]
  },
  {
   "cell_type": "code",
   "execution_count": 30,
   "metadata": {},
   "outputs": [],
   "source": [
    "news_editor_agent = create_agents(\n",
    "    llm, tools,\n",
    "    \"\"\"Answer the following questions as best you can. You have access to the following tools:\n",
    "\n",
    "            {tools}{tool_names}\n",
    "    You are a news editor. Do step by step approach. \n",
    "        Based on the provided content first identify the list of topics,\n",
    "        then search internet for each topic one by one\n",
    "        and finally find insights for each topic one by one that can aid you \n",
    "        in writting a useful news edition for AI-nes corp.\n",
    "        Include the insights and sources in the final response\n",
    "        \"\"\")"
   ]
  },
  {
   "cell_type": "code",
   "execution_count": 31,
   "metadata": {},
   "outputs": [],
   "source": [
    "news_editor_node = functools.partial(\n",
    "    agent_node, agent=news_editor_agent, name=\"news_editor\")\n"
   ]
  },
  {
   "cell_type": "code",
   "execution_count": 32,
   "metadata": {},
   "outputs": [],
   "source": [
    "ads_writter_agent = create_agents(\n",
    "    llm, tools,\n",
    "    \"\"\"Answer the following questions as best you can. You have access to the following tools:\n",
    "\n",
    "            {tools}{tool_names}\n",
    "    You are an ads writter for AI-news corp. Given the publication generated by the\n",
    "    news editor, your work if to write ads that relate to that content. Use the internet \n",
    "    to search for content to write ads based off on. Here is a description of your task:\n",
    "    \n",
    "    To craft compelling and relevant advertisements for 'AI News' publication, complementing the content written by the news editor.\n",
    "    Contextual Ad Placement: Analyze the final report content from the news editor in-depth to identify key themes, topics, \n",
    "    and reader interests. Place ads that are contextually relevant to these findings, thereby increasing potential customer engagement.\n",
    "    Advanced Image Sourcing and Curation: Employ sophisticated web search algorithms to source high-quality, relevant images for each ad. \n",
    "    Ensure these images complement the ad content and are aligned with the publication's aesthetic standards.\n",
    "    Ad-Content Synchronization: Seamlessly integrate advertisements with the report, ensuring they enhance rather than disrupt the reader's \n",
    "    experience. Ads should feel like a natural extension of the report, offering value to the reader.\n",
    "    Reference and Attribution Management: For each image sourced, automatically generate and include appropriate references and attributions, \n",
    "    ensuring compliance with copyright laws and ethical standards.\n",
    "    \"\"\")"
   ]
  },
  {
   "cell_type": "code",
   "execution_count": 33,
   "metadata": {},
   "outputs": [],
   "source": [
    "ads_writter_node = functools.partial(\n",
    "    agent_node, agent=ads_writter_agent, name=\"ads_writter\")"
   ]
  },
  {
   "cell_type": "code",
   "execution_count": 34,
   "metadata": {},
   "outputs": [],
   "source": [
    "class AgentState(TypedDict):\n",
    "    messages: Annotated[Sequence[BaseMessage], operator.add]\n",
    "    next: str\n"
   ]
  },
  {
   "cell_type": "code",
   "execution_count": 35,
   "metadata": {},
   "outputs": [],
   "source": [
    "# Create workflow or graph\n",
    "workflow = StateGraph(AgentState)\n",
    "\n",
    "# adding nodes\n",
    "workflow.add_node(node=\"supervisor\", action=supervisor_chain)\n",
    "workflow.add_node(node=\"news_correspondent\", action=news_correspondent_node)\n",
    "workflow.add_node(node=\"news_editor\", action=news_editor_node)\n",
    "workflow.add_node(node=\"ads_writter\", action=ads_writter_node)\n"
   ]
  },
  {
   "cell_type": "code",
   "execution_count": 36,
   "metadata": {},
   "outputs": [],
   "source": [
    "# define edgs\n",
    "for member in members:\n",
    "    workflow.add_edge(start_key=member, end_key=\"supervisor\")"
   ]
  },
  {
   "cell_type": "code",
   "execution_count": 37,
   "metadata": {},
   "outputs": [],
   "source": [
    "conditional_map = {k: k for k in members}\n",
    "conditional_map['FINISH'] = END"
   ]
  },
  {
   "cell_type": "code",
   "execution_count": 38,
   "metadata": {},
   "outputs": [],
   "source": [
    "# if task is FINISHED, supervisor won't send task to agent, else,\n",
    "# the supervisor will keep on sending task to agent untill done, this is\n",
    "# what the conditional edge does.\n",
    "workflow.add_conditional_edges(\n",
    "    \"supervisor\", lambda x: x[\"next\"], conditional_map)\n",
    "workflow.set_entry_point(\"supervisor\")"
   ]
  },
  {
   "cell_type": "code",
   "execution_count": null,
   "metadata": {},
   "outputs": [],
   "source": [
    "print(workflow.branches)\n",
    "print(workflow.edges)\n",
    "print(workflow.nodes)\n",
    "print(workflow.channels)"
   ]
  },
  {
   "cell_type": "code",
   "execution_count": 40,
   "metadata": {},
   "outputs": [],
   "source": [
    "graph = workflow.compile()"
   ]
  },
  {
   "cell_type": "code",
   "execution_count": null,
   "metadata": {},
   "outputs": [],
   "source": [
    "# 1. Stream\n",
    "for s in graph.stream(\n",
    "    {\n",
    "        \"messages\": [\n",
    "            HumanMessage(\n",
    "                content=\"\"\"Write me a report on spaceX. After the research on spaceX,\n",
    "                              pass the findings to the news editor to generate the final publication.\n",
    "                              Once done, pass it to the ads writter to write the ads on the subject.\"\"\"\n",
    "            )\n",
    "        ],\n",
    "    },\n",
    "    # Maximum number of steps to take in the graph\n",
    "    {\"recursion_limit\": 150}\n",
    "):\n",
    "    if not \"__end__\" in s:\n",
    "        print(s, end=\"\\n\\n-----------------\\n\\n\")\n"
   ]
  },
  {
   "cell_type": "code",
   "execution_count": null,
   "metadata": {},
   "outputs": [],
   "source": [
    "# 2. No Streaming\n",
    "final_respone = graph.invoke({\n",
    "    \"messages\": [HumanMessage(content=\"\"\"Write me a report on spaceX. After the research on spaceX,\n",
    "                              pass the findings to the news editor to generate the final publication.\n",
    "                              Once done, pass it to the ads writter to write the ads on the subject.\"\"\")]\n",
    "}, {\"recursion_limit\": 150})\n",
    "\n",
    "# print(final_respone[\"messages\"][1].content)\n"
   ]
  },
  {
   "cell_type": "code",
   "execution_count": null,
   "metadata": {},
   "outputs": [],
   "source": [
    "def run_graph(input_message):\n",
    "    response = graph.invoke({\n",
    "        \"messages\": [HumanMessage(content=input_message)]\n",
    "    }, {\"recursion_limit\": 150})\n",
    "    return response['messages'][1].content\n"
   ]
  },
  {
   "cell_type": "code",
   "execution_count": null,
   "metadata": {},
   "outputs": [],
   "source": [
    "inputs = gr.components.Textbox(lines=2, placeholder=\"Enter your query here...\")\n",
    "outputs = gr.components.Markdown()\n"
   ]
  },
  {
   "cell_type": "code",
   "execution_count": null,
   "metadata": {},
   "outputs": [],
   "source": [
    "demo = gr.Interface(\n",
    "    fn=run_graph,\n",
    "    inputs=inputs,\n",
    "    outputs=outputs\n",
    ")\n",
    "\n",
    "demo.launch()"
   ]
  }
 ],
 "metadata": {
  "kernelspec": {
   "display_name": "env",
   "language": "python",
   "name": "python3"
  },
  "language_info": {
   "codemirror_mode": {
    "name": "ipython",
    "version": 3
   },
   "file_extension": ".py",
   "mimetype": "text/x-python",
   "name": "python",
   "nbconvert_exporter": "python",
   "pygments_lexer": "ipython3",
   "version": "3.11.7"
  }
 },
 "nbformat": 4,
 "nbformat_minor": 2
}
